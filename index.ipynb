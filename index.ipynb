{
  "nbformat": 4,
  "nbformat_minor": 0,
  "metadata": {
    "colab": {
      "provenance": [],
      "gpuType": "T4"
    },
    "kernelspec": {
      "name": "python3",
      "display_name": "Python 3"
    },
    "language_info": {
      "name": "python"
    },
    "accelerator": "GPU"
  },
  "cells": [
    {
      "cell_type": "code",
      "source": [
        "!mkdir -p ~/.kaggle\n",
        "!cp kaggle.json ~/.kaggle/\n",
        "!chmod 600 ~/.kaggle/kaggle.json"
      ],
      "metadata": {
        "id": "RyZtO5fzXr9M"
      },
      "execution_count": 1,
      "outputs": []
    },
    {
      "cell_type": "code",
      "execution_count": 2,
      "metadata": {
        "colab": {
          "base_uri": "https://localhost:8080/"
        },
        "id": "ccycLGMeXQGk",
        "outputId": "c0c315a6-9f4c-4b96-c2de-5f997ca485ec"
      },
      "outputs": [
        {
          "output_type": "stream",
          "name": "stdout",
          "text": [
            "Downloading skin-disease-dataset.zip to /content\n",
            "100% 17.3M/17.3M [00:00<00:00, 73.8MB/s]\n",
            "100% 17.3M/17.3M [00:00<00:00, 65.3MB/s]\n"
          ]
        }
      ],
      "source": [
        "!kaggle datasets download -d subirbiswas19/skin-disease-dataset"
      ]
    },
    {
      "cell_type": "code",
      "source": [
        "!unzip -q /content/skin-disease-dataset.zip -d skin-disease"
      ],
      "metadata": {
        "id": "jXFnpRrnXmj5"
      },
      "execution_count": 3,
      "outputs": []
    },
    {
      "cell_type": "code",
      "source": [
        "train_dir = '/content/skin-disease/skin-disease-datasaet/train_set'\n",
        "test_dir = '/content/skin-disease/skin-disease-datasaet/test_set'"
      ],
      "metadata": {
        "id": "cXaHkzlUYdFs"
      },
      "execution_count": 4,
      "outputs": []
    },
    {
      "cell_type": "code",
      "source": [
        "import tensorflow as tf\n",
        "from tensorflow.keras import layers, models\n",
        "from tensorflow.keras.optimizers import Adam\n",
        "from tensorflow.keras.preprocessing.image import ImageDataGenerator\n",
        "\n",
        "input_shape = (256, 256, 3)\n",
        "num_classes = 8\n",
        "batch_size = 16\n",
        "\n",
        "\n",
        "CNN_Model = models.Sequential()\n",
        "CNN_Model.add(layers.Conv2D(filters=32, kernel_size=(3,3), activation='relu', input_shape=input_shape))\n",
        "CNN_Model.add(layers.BatchNormalization())\n",
        "CNN_Model.add(layers.MaxPooling2D(pool_size=(2,2)))\n",
        "CNN_Model.add(layers.Conv2D(filters=64, kernel_size=(3,3), activation='relu'))\n",
        "CNN_Model.add(layers.BatchNormalization())\n",
        "CNN_Model.add(layers.MaxPooling2D(pool_size=(2,2)))\n",
        "CNN_Model.add(layers.Conv2D(filters=128, kernel_size=(3,3), activation='relu'))\n",
        "CNN_Model.add(layers.BatchNormalization())\n",
        "CNN_Model.add(layers.MaxPooling2D(pool_size=(2,2)))\n",
        "CNN_Model.add(layers.Conv2D(filters=256, kernel_size=(3,3), activation='relu'))\n",
        "CNN_Model.add(layers.BatchNormalization())\n",
        "CNN_Model.add(layers.MaxPooling2D(pool_size=(2,2)))\n",
        "CNN_Model.add(layers.Conv2D(filters=512, kernel_size=(3,3), activation='relu'))\n",
        "CNN_Model.add(layers.BatchNormalization())\n",
        "CNN_Model.add(layers.MaxPooling2D(pool_size=(2,2)))\n",
        "CNN_Model.add(layers.Flatten())\n",
        "CNN_Model.add(layers.Dropout(0.5))\n",
        "CNN_Model.add(layers.Dense(num_classes, activation='softmax'))\n",
        "\n",
        "CNN_Model.compile(optimizer=Adam(learning_rate=0.0001), loss='categorical_crossentropy', metrics=['accuracy'])\n",
        "\n",
        "\n",
        "train_dataset = tf.keras.preprocessing.image_dataset_from_directory(\n",
        "    train_dir,\n",
        "    image_size=(256, 256),\n",
        "    batch_size=batch_size,\n",
        "    shuffle=True,\n",
        "    seed=42,\n",
        "    label_mode='categorical'\n",
        ")\n",
        "\n",
        "\n",
        "validation_dataset = tf.keras.preprocessing.image_dataset_from_directory(\n",
        "    test_dir,\n",
        "    image_size=(256, 256),\n",
        "    batch_size=batch_size,\n",
        "    shuffle=False,\n",
        "    label_mode='categorical'\n",
        ")\n",
        "\n",
        "early_stopping = tf.keras.callbacks.EarlyStopping(monitor='val_loss', patience=2, restore_best_weights=True)\n",
        "\n",
        "history = CNN_Model.fit(train_dataset, validation_data=validation_dataset, epochs=20, callbacks=[early_stopping])\n"
      ],
      "metadata": {
        "colab": {
          "base_uri": "https://localhost:8080/"
        },
        "id": "c9yfQdojZQg0",
        "outputId": "e2dc2e01-8f89-4aa7-96a5-bd6511cf1f18"
      },
      "execution_count": 17,
      "outputs": [
        {
          "output_type": "stream",
          "name": "stdout",
          "text": [
            "Found 924 files belonging to 8 classes.\n",
            "Found 233 files belonging to 8 classes.\n",
            "Epoch 1/20\n",
            "58/58 [==============================] - 12s 100ms/step - loss: 2.7691 - accuracy: 0.3452 - val_loss: 1.8392 - val_accuracy: 0.3047\n",
            "Epoch 2/20\n",
            "58/58 [==============================] - 4s 62ms/step - loss: 1.2638 - accuracy: 0.6310 - val_loss: 1.6148 - val_accuracy: 0.3605\n",
            "Epoch 3/20\n",
            "58/58 [==============================] - 3s 57ms/step - loss: 0.7830 - accuracy: 0.7554 - val_loss: 1.3472 - val_accuracy: 0.4764\n",
            "Epoch 4/20\n",
            "58/58 [==============================] - 3s 57ms/step - loss: 0.5308 - accuracy: 0.8268 - val_loss: 1.0382 - val_accuracy: 0.6180\n",
            "Epoch 5/20\n",
            "58/58 [==============================] - 4s 61ms/step - loss: 0.4261 - accuracy: 0.8647 - val_loss: 0.9580 - val_accuracy: 0.6867\n",
            "Epoch 6/20\n",
            "58/58 [==============================] - 4s 64ms/step - loss: 0.2642 - accuracy: 0.9113 - val_loss: 0.6589 - val_accuracy: 0.8240\n",
            "Epoch 7/20\n",
            "58/58 [==============================] - 3s 57ms/step - loss: 0.1887 - accuracy: 0.9394 - val_loss: 0.7702 - val_accuracy: 0.7768\n",
            "Epoch 8/20\n",
            "58/58 [==============================] - 4s 62ms/step - loss: 0.2000 - accuracy: 0.9481 - val_loss: 0.7655 - val_accuracy: 0.7768\n"
          ]
        }
      ]
    },
    {
      "cell_type": "code",
      "source": [
        "print(f\"Average Images per class Training: {924//8}, Testing: {233//8}\")"
      ],
      "metadata": {
        "id": "OSY7kw1gmi6W",
        "colab": {
          "base_uri": "https://localhost:8080/"
        },
        "outputId": "ec3b2ff3-5ecc-46df-8cf8-76d0d1a5bd0c"
      },
      "execution_count": 7,
      "outputs": [
        {
          "output_type": "stream",
          "name": "stdout",
          "text": [
            "Average Images per class Training: 115, Testing: 29\n"
          ]
        }
      ]
    },
    {
      "cell_type": "code",
      "source": [
        "def generatorModel(latent_dim):\n",
        "  generator = models.Sequential()\n",
        "\n",
        "  generator.add(layers.Dense(32*32*180,input_dim=latent_dim))\n",
        "  generator.add(layers.LeakyReLU(0.2))\n",
        "  generator.add(layers.Reshape((32, 32, 180)))\n",
        "\n",
        "  generator.add(layers.Conv2DTranspose(256, 4, 2, padding='same'))\n",
        "  generator.add(layers.LeakyReLU(0.2))\n",
        "\n",
        "  generator.add(layers.Conv2DTranspose(128, 4, 2, padding='same'))\n",
        "  generator.add(layers.LeakyReLU(0.2))\n",
        "\n",
        "  generator.add(layers.Conv2DTranspose(3, 4, 2, padding='same'))\n",
        "\n",
        "  return generator\n",
        "\n",
        "generator = generatorModel(128)\n",
        "generator.summary()"
      ],
      "metadata": {
        "colab": {
          "base_uri": "https://localhost:8080/"
        },
        "id": "P7UIlJaVkXAL",
        "outputId": "416be784-2990-4221-dcd5-e5ccfe2fbfd1"
      },
      "execution_count": 40,
      "outputs": [
        {
          "output_type": "stream",
          "name": "stdout",
          "text": [
            "Model: \"sequential_17\"\n",
            "_________________________________________________________________\n",
            " Layer (type)                Output Shape              Param #   \n",
            "=================================================================\n",
            " dense_17 (Dense)            (None, 184320)            23777280  \n",
            "                                                                 \n",
            " leaky_re_lu_39 (LeakyReLU)  (None, 184320)            0         \n",
            "                                                                 \n",
            " reshape_9 (Reshape)         (None, 32, 32, 180)       0         \n",
            "                                                                 \n",
            " conv2d_transpose_24 (Conv2  (None, 64, 64, 256)       737536    \n",
            " DTranspose)                                                     \n",
            "                                                                 \n",
            " leaky_re_lu_40 (LeakyReLU)  (None, 64, 64, 256)       0         \n",
            "                                                                 \n",
            " conv2d_transpose_25 (Conv2  (None, 128, 128, 128)     524416    \n",
            " DTranspose)                                                     \n",
            "                                                                 \n",
            " leaky_re_lu_41 (LeakyReLU)  (None, 128, 128, 128)     0         \n",
            "                                                                 \n",
            " conv2d_transpose_26 (Conv2  (None, 256, 256, 3)       6147      \n",
            " DTranspose)                                                     \n",
            "                                                                 \n",
            "=================================================================\n",
            "Total params: 25045379 (95.54 MB)\n",
            "Trainable params: 25045379 (95.54 MB)\n",
            "Non-trainable params: 0 (0.00 Byte)\n",
            "_________________________________________________________________\n"
          ]
        }
      ]
    },
    {
      "cell_type": "code",
      "source": [
        "import matplotlib.pyplot as plt\n",
        "\n",
        "random_latent_vector = tf.random.normal(shape=(1, 128))\n",
        "generated_sample = generator(random_latent_vector, training=False)\n",
        "plt.imshow(generated_sample.numpy().reshape(256, 256, 3), cmap='gray')\n",
        "plt.title('Generated Sample')\n",
        "plt.axis('off')\n",
        "plt.show()"
      ],
      "metadata": {
        "colab": {
          "base_uri": "https://localhost:8080/",
          "height": 466
        },
        "id": "WXJdZo0olVgy",
        "outputId": "04dae43d-f19d-4984-e591-582b9d48a404"
      },
      "execution_count": 44,
      "outputs": [
        {
          "output_type": "stream",
          "name": "stderr",
          "text": [
            "WARNING:matplotlib.image:Clipping input data to the valid range for imshow with RGB data ([0..1] for floats or [0..255] for integers).\n"
          ]
        },
        {
          "output_type": "display_data",
          "data": {
            "text/plain": [
              "<Figure size 640x480 with 1 Axes>"
            ],
            "image/png": "[encoded data removed]"
          },
          "metadata": {}
        }
      ]
    },
    {
      "cell_type": "code",
      "source": [
        "def discriminatorModel(image_shape, num_classes):\n",
        "  model = models.Sequential()\n",
        "\n",
        "  model.add(layers.Conv2D(64, 3, 2, padding='same', input_shape=input_shape))\n",
        "  model.add(layers.LeakyReLU(0.2))\n",
        "\n",
        "  model.add(layers.Conv2D(128, 3, 2, padding='same'))\n",
        "  model.add(layers.LeakyReLU(0.2))\n",
        "\n",
        "  model.add(layers.Conv2D(256, 3, 2, padding='same'))\n",
        "  model.add(layers.LeakyReLU(0.2))\n",
        "\n",
        "  model.add(layers.Flatten())\n",
        "  model.add(layers.Dense(num_classes, activation='softmax'))\n",
        "\n",
        "  return model\n",
        "\n",
        "discriminator = discriminatorModel((256, 256, 3), 8)\n",
        "discriminator.summary()"
      ],
      "metadata": {
        "colab": {
          "base_uri": "https://localhost:8080/"
        },
        "id": "YBTmqcW1nzpP",
        "outputId": "2454915d-2798-48fb-df89-73eca1195b2e"
      },
      "execution_count": 45,
      "outputs": [
        {
          "output_type": "stream",
          "name": "stdout",
          "text": [
            "Model: \"sequential_18\"\n",
            "_________________________________________________________________\n",
            " Layer (type)                Output Shape              Param #   \n",
            "=================================================================\n",
            " conv2d_27 (Conv2D)          (None, 128, 128, 64)      1792      \n",
            "                                                                 \n",
            " leaky_re_lu_42 (LeakyReLU)  (None, 128, 128, 64)      0         \n",
            "                                                                 \n",
            " conv2d_28 (Conv2D)          (None, 64, 64, 128)       73856     \n",
            "                                                                 \n",
            " leaky_re_lu_43 (LeakyReLU)  (None, 64, 64, 128)       0         \n",
            "                                                                 \n",
            " conv2d_29 (Conv2D)          (None, 32, 32, 256)       295168    \n",
            "                                                                 \n",
            " leaky_re_lu_44 (LeakyReLU)  (None, 32, 32, 256)       0         \n",
            "                                                                 \n",
            " flatten_7 (Flatten)         (None, 262144)            0         \n",
            "                                                                 \n",
            " dense_18 (Dense)            (None, 8)                 2097160   \n",
            "                                                                 \n",
            "=================================================================\n",
            "Total params: 2467976 (9.41 MB)\n",
            "Trainable params: 2467976 (9.41 MB)\n",
            "Non-trainable params: 0 (0.00 Byte)\n",
            "_________________________________________________________________\n"
          ]
        }
      ]
    },
    {
      "cell_type": "code",
      "source": [
        "discriminator.compile(loss='categorical_crossentropy', optimizer='adam', metrics=['accuracy'])"
      ],
      "metadata": {
        "id": "v0x6AVHVpjKs"
      },
      "execution_count": 46,
      "outputs": []
    },
    {
      "cell_type": "code",
      "source": [
        "fake_sample = generator(tf.random.normal(shape=(1, 128)), training=False)\n",
        "disPred = discriminator(fake_sample, training=False)"
      ],
      "metadata": {
        "id": "VM7UV38ip9Av"
      },
      "execution_count": 47,
      "outputs": []
    },
    {
      "cell_type": "code",
      "source": [
        "disPred"
      ],
      "metadata": {
        "colab": {
          "base_uri": "https://localhost:8080/"
        },
        "id": "_ru7vGsoqRP3",
        "outputId": "7ec9d88f-2284-4949-c503-71d40e232e68"
      },
      "execution_count": 48,
      "outputs": [
        {
          "output_type": "execute_result",
          "data": {
            "text/plain": [
              "<tf.Tensor: shape=(1, 8), dtype=float32, numpy=\n",
              "array([[0.12504978, 0.12499851, 0.12500109, 0.12498709, 0.12503432,\n",
              "        0.12497984, 0.12500875, 0.12494057]], dtype=float32)>"
            ]
          },
          "metadata": {},
          "execution_count": 48
        }
      ]
    },
    {
      "cell_type": "code",
      "source": [
        "def GAN(generator, discriminator):\n",
        "    discriminator.trainable = False\n",
        "    model = models.Sequential()\n",
        "    model.add(generator)\n",
        "    model.add(discriminator)\n",
        "    return model\n"
      ],
      "metadata": {
        "id": "FvOaD7N4rMhu"
      },
      "execution_count": 49,
      "outputs": []
    },
    {
      "cell_type": "code",
      "source": [
        "img_shape = (256, 256, 3)\n",
        "latent_dim = 128\n",
        "num_classes = 8"
      ],
      "metadata": {
        "id": "Xlqyn0dDrmJU"
      },
      "execution_count": 50,
      "outputs": []
    },
    {
      "cell_type": "code",
      "source": [
        "gan = GAN(generator, discriminator)\n",
        "gan.compile(loss='categorical_crossentropy', optimizer='adam')"
      ],
      "metadata": {
        "id": "ef0bNWuGrp5p"
      },
      "execution_count": 51,
      "outputs": []
    },
    {
      "cell_type": "code",
      "source": [
        "import numpy as np\n",
        "# Function to train the GAN\n",
        "def train_gan(generator, discriminator, gan, train_dataset, latent_dim, epochs=100, batch_size=32):\n",
        "    for epoch in range(epochs):\n",
        "        for images, _ in train_dataset:\n",
        "            batch_size = images.shape[0]\n",
        "\n",
        "            # Train discriminator\n",
        "            noise = np.random.normal(0, 1, (batch_size, latent_dim))\n",
        "            generated_images = generator.predict(noise)\n",
        "            real_images = images.numpy()\n",
        "\n",
        "            fake_labels = np.zeros((batch_size, num_classes))\n",
        "            real_labels = np.ones((batch_size, num_classes))\n",
        "\n",
        "            d_loss_fake = discriminator.train_on_batch(generated_images, fake_labels)\n",
        "            d_loss_real = discriminator.train_on_batch(real_images, real_labels)\n",
        "            d_loss = 0.5 * np.add(d_loss_fake, d_loss_real)\n",
        "\n",
        "            # Train generator\n",
        "            noise = np.random.normal(0, 1, (batch_size, latent_dim))\n",
        "            valid_labels = np.ones((batch_size, num_classes))\n",
        "            g_loss = gan.train_on_batch(noise, valid_labels)\n",
        "\n",
        "        # Print progress\n",
        "        print(f\"Epoch {epoch+1}, D Loss: {d_loss[0]}, G Loss: {g_loss}\")\n",
        "\n",
        "        # Save generated images at some intervals\n",
        "        if epoch % 10 == 0:\n",
        "            save_generated_images(epoch, generator)\n",
        "\n",
        "\n",
        "def save_generated_images(epoch, generator, latent_dim=128, examples=10, dim=(1, 10), figsize=(10, 1)):\n",
        "    noise = np.random.normal(0, 1, (examples, latent_dim))\n",
        "    generated_images = generator.predict(noise)\n",
        "    generated_images = 0.5 * generated_images + 0.5\n",
        "\n",
        "    plt.figure(figsize=figsize)\n",
        "    for i in range(generated_images.shape[0]):\n",
        "        plt.subplot(dim[0], dim[1], i+1)\n",
        "        plt.imshow(generated_images[i], interpolation='nearest', cmap='gray_r')\n",
        "        plt.axis('off')\n",
        "    plt.tight_layout()\n",
        "    plt.savefig(f'gan_generated_image_epoch_{epoch}.png')"
      ],
      "metadata": {
        "id": "ndFRzeldrqQp"
      },
      "execution_count": 58,
      "outputs": []
    },
    {
      "cell_type": "code",
      "source": [
        "data_dir = '/content/skin-disease/skin-disease-datasaet/train_set'\n",
        "img_size = (256, 256)\n",
        "batch_size = 16\n",
        "\n",
        "train_dataset = tf.keras.utils.image_dataset_from_directory(\n",
        "    data_dir,\n",
        "    seed=1337,\n",
        "    image_size=img_size,\n",
        "    batch_size=batch_size,\n",
        ")\n",
        "\n",
        "train_dataset = train_dataset.map(lambda x, y: (tf.keras.layers.experimental.preprocessing.Rescaling(1./127.5, offset=-1)(x), y))\n"
      ],
      "metadata": {
        "colab": {
          "base_uri": "https://localhost:8080/"
        },
        "id": "9rtQcU6wsY-W",
        "outputId": "56769c51-3417-403e-c5d8-9d465c84a75f"
      },
      "execution_count": 61,
      "outputs": [
        {
          "output_type": "stream",
          "name": "stdout",
          "text": [
            "Found 924 files belonging to 8 classes.\n"
          ]
        }
      ]
    },
    {
      "cell_type": "code",
      "source": [
        "train_gan(generator, discriminator, gan, train_dataset, latent_dim, epochs=10, batch_size=16)"
      ],
      "metadata": {
        "id": "Lzf8xWnqr6Xz"
      },
      "execution_count": null,
      "outputs": []
    },
    {
      "cell_type": "code",
      "source": [],
      "metadata": {
        "id": "86wN5c8ksEL5"
      },
      "execution_count": null,
      "outputs": []
    }
  ]
}